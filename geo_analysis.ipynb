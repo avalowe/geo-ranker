{
 "cells": [
  {
   "cell_type": "markdown",
   "metadata": {},
   "source": [
    "#### Import necessary libraries"
   ]
  },
  {
   "cell_type": "markdown",
   "metadata": {},
   "source": [
    "#### geocoders is a module within geopy, so we have to explicitly import the Nominatim class via geopy.geocoders"
   ]
  },
  {
   "cell_type": "code",
   "execution_count": 58,
   "metadata": {},
   "outputs": [],
   "source": [
    "import pandas as pd\n",
    "import geopy\n",
    "from geopy.geocoders import Nominatim\n",
    "from geopy.extra.rate_limiter import RateLimiter\n",
    "from geopy import distance\n"
   ]
  },
  {
   "cell_type": "markdown",
   "metadata": {},
   "source": [
    "#### Read CSV file containing the 5 tallest buildings in the US"
   ]
  },
  {
   "cell_type": "code",
   "execution_count": 59,
   "metadata": {},
   "outputs": [],
   "source": [
    "df = pd.read_csv('tallest_buildings.csv')"
   ]
  },
  {
   "cell_type": "code",
   "execution_count": 60,
   "metadata": {},
   "outputs": [],
   "source": [
    "geocoder = RateLimiter(Nominatim(user_agent='tutorial').geocode, min_delay_seconds=1)\n",
    "df['full_address'] = df['address'].apply(geocoder)"
   ]
  },
  {
   "cell_type": "markdown",
   "metadata": {},
   "source": [
    "#### Print full address of tallest building"
   ]
  },
  {
   "cell_type": "code",
   "execution_count": 61,
   "metadata": {},
   "outputs": [
    {
     "data": {
      "text/plain": [
       "Location(285, Fulton Street, Financial District, Manhattan Community Board 1, New York County, New York, 10007, United States, (40.7130054, -74.0131898, 0.0))"
      ]
     },
     "execution_count": 61,
     "metadata": {},
     "output_type": "execute_result"
    }
   ],
   "source": [
    "df.loc[0, 'full_address']"
   ]
  },
  {
   "cell_type": "markdown",
   "metadata": {},
   "source": [
    "#### Assign World Trade Center's address to a variable, then assign it's coordinates to a variable"
   ]
  },
  {
   "cell_type": "code",
   "execution_count": 62,
   "metadata": {},
   "outputs": [],
   "source": [
    "one_world_trade_cntr = df.loc[0, 'full_address']\n",
    "one_world_trade_cntr_coordinates = (one_world_trade_cntr.latitude, one_world_trade_cntr.longitude)"
   ]
  },
  {
   "cell_type": "markdown",
   "metadata": {},
   "source": [
    "#### Do the same for Willis Tower"
   ]
  },
  {
   "cell_type": "code",
   "execution_count": 63,
   "metadata": {},
   "outputs": [],
   "source": [
    "willis_tower = df.loc[2, 'full_address']\n",
    "willis_tower_coordinates = (willis_tower.latitude, willis_tower.longitude)"
   ]
  },
  {
   "cell_type": "markdown",
   "metadata": {},
   "source": [
    "#### Calculate distance between OWTC and Willis Tower"
   ]
  },
  {
   "cell_type": "code",
   "execution_count": 64,
   "metadata": {},
   "outputs": [
    {
     "data": {
      "text/plain": [
       "712.7747974470165"
      ]
     },
     "execution_count": 64,
     "metadata": {},
     "output_type": "execute_result"
    }
   ],
   "source": [
    "distance.distance(one_world_trade_cntr_coordinates, willis_tower_coordinates).miles"
   ]
  },
  {
   "cell_type": "markdown",
   "metadata": {},
   "source": [
    "#### Create columns for latitude and longitude"
   ]
  },
  {
   "cell_type": "code",
   "execution_count": 68,
   "metadata": {},
   "outputs": [
    {
     "data": {
      "text/html": [
       "<div>\n",
       "<style scoped>\n",
       "    .dataframe tbody tr th:only-of-type {\n",
       "        vertical-align: middle;\n",
       "    }\n",
       "\n",
       "    .dataframe tbody tr th {\n",
       "        vertical-align: top;\n",
       "    }\n",
       "\n",
       "    .dataframe thead th {\n",
       "        text-align: right;\n",
       "    }\n",
       "</style>\n",
       "<table border=\"1\" class=\"dataframe\">\n",
       "  <thead>\n",
       "    <tr style=\"text-align: right;\">\n",
       "      <th></th>\n",
       "      <th>Unnamed: 0</th>\n",
       "      <th>name</th>\n",
       "      <th>address</th>\n",
       "      <th>height</th>\n",
       "      <th>full_address</th>\n",
       "      <th>latitude</th>\n",
       "      <th>longitude</th>\n",
       "    </tr>\n",
       "  </thead>\n",
       "  <tbody>\n",
       "    <tr>\n",
       "      <th>0</th>\n",
       "      <td>0</td>\n",
       "      <td>One World Trade Center</td>\n",
       "      <td>285 Fulton Street, Manhattan, New York 10007, ...</td>\n",
       "      <td>1776</td>\n",
       "      <td>(285, Fulton Street, Financial District, Manha...</td>\n",
       "      <td>40.713005</td>\n",
       "      <td>-74.013190</td>\n",
       "    </tr>\n",
       "    <tr>\n",
       "      <th>1</th>\n",
       "      <td>1</td>\n",
       "      <td>Central Park Tower</td>\n",
       "      <td>217 W 57th St, NY</td>\n",
       "      <td>1550</td>\n",
       "      <td>(217, West 57th Street, Midtown, Manhattan Com...</td>\n",
       "      <td>40.765957</td>\n",
       "      <td>-73.980844</td>\n",
       "    </tr>\n",
       "    <tr>\n",
       "      <th>2</th>\n",
       "      <td>2</td>\n",
       "      <td>Willis Tower</td>\n",
       "      <td>233 S Wacker Dr, 60606</td>\n",
       "      <td>1451</td>\n",
       "      <td>(Willis Tower, 233, South Wacker Drive, Printe...</td>\n",
       "      <td>41.878872</td>\n",
       "      <td>-87.635908</td>\n",
       "    </tr>\n",
       "    <tr>\n",
       "      <th>3</th>\n",
       "      <td>3</td>\n",
       "      <td>111 West 57th Street</td>\n",
       "      <td>111 West 57th St, Manhattan</td>\n",
       "      <td>1428</td>\n",
       "      <td>(111 West 57th Street, West 57th Street, Midto...</td>\n",
       "      <td>40.764760</td>\n",
       "      <td>-73.977581</td>\n",
       "    </tr>\n",
       "    <tr>\n",
       "      <th>4</th>\n",
       "      <td>4</td>\n",
       "      <td>One Vanderbilt</td>\n",
       "      <td>40.7530°N 73.9785°W</td>\n",
       "      <td>1401</td>\n",
       "      <td>(One Vanderbilt, 1, Vanderbilt Avenue, Manhatt...</td>\n",
       "      <td>40.752971</td>\n",
       "      <td>-73.978541</td>\n",
       "    </tr>\n",
       "  </tbody>\n",
       "</table>\n",
       "</div>"
      ],
      "text/plain": [
       "   Unnamed: 0                    name  \\\n",
       "0           0  One World Trade Center   \n",
       "1           1      Central Park Tower   \n",
       "2           2            Willis Tower   \n",
       "3           3    111 West 57th Street   \n",
       "4           4          One Vanderbilt   \n",
       "\n",
       "                                             address  height  \\\n",
       "0  285 Fulton Street, Manhattan, New York 10007, ...    1776   \n",
       "1                                  217 W 57th St, NY    1550   \n",
       "2                             233 S Wacker Dr, 60606    1451   \n",
       "3                        111 West 57th St, Manhattan    1428   \n",
       "4                                40.7530°N 73.9785°W    1401   \n",
       "\n",
       "                                        full_address   latitude  longitude  \n",
       "0  (285, Fulton Street, Financial District, Manha...  40.713005 -74.013190  \n",
       "1  (217, West 57th Street, Midtown, Manhattan Com...  40.765957 -73.980844  \n",
       "2  (Willis Tower, 233, South Wacker Drive, Printe...  41.878872 -87.635908  \n",
       "3  (111 West 57th Street, West 57th Street, Midto...  40.764760 -73.977581  \n",
       "4  (One Vanderbilt, 1, Vanderbilt Avenue, Manhatt...  40.752971 -73.978541  "
      ]
     },
     "execution_count": 68,
     "metadata": {},
     "output_type": "execute_result"
    }
   ],
   "source": [
    "df['latitude'] = df['full_address'].apply(geocoder).apply(lambda x: (x.latitude))\n",
    "df['longitude'] = df['full_address'].apply(geocoder).apply(lambda x: (x.longitude))\n",
    "df"
   ]
  },
  {
   "cell_type": "markdown",
   "metadata": {},
   "source": [
    "#### Find distance from all buildings to Atlanta"
   ]
  },
  {
   "cell_type": "code",
   "execution_count": 71,
   "metadata": {},
   "outputs": [
    {
     "data": {
      "text/html": [
       "<div>\n",
       "<style scoped>\n",
       "    .dataframe tbody tr th:only-of-type {\n",
       "        vertical-align: middle;\n",
       "    }\n",
       "\n",
       "    .dataframe tbody tr th {\n",
       "        vertical-align: top;\n",
       "    }\n",
       "\n",
       "    .dataframe thead th {\n",
       "        text-align: right;\n",
       "    }\n",
       "</style>\n",
       "<table border=\"1\" class=\"dataframe\">\n",
       "  <thead>\n",
       "    <tr style=\"text-align: right;\">\n",
       "      <th></th>\n",
       "      <th>Unnamed: 0</th>\n",
       "      <th>name</th>\n",
       "      <th>address</th>\n",
       "      <th>height</th>\n",
       "      <th>full_address</th>\n",
       "      <th>latitude</th>\n",
       "      <th>longitude</th>\n",
       "      <th>distance_to_atl</th>\n",
       "    </tr>\n",
       "  </thead>\n",
       "  <tbody>\n",
       "    <tr>\n",
       "      <th>0</th>\n",
       "      <td>0</td>\n",
       "      <td>One World Trade Center</td>\n",
       "      <td>285 Fulton Street, Manhattan, New York 10007, ...</td>\n",
       "      <td>1776</td>\n",
       "      <td>(285, Fulton Street, Financial District, Manha...</td>\n",
       "      <td>40.713005</td>\n",
       "      <td>-74.013190</td>\n",
       "      <td>745.973449</td>\n",
       "    </tr>\n",
       "    <tr>\n",
       "      <th>1</th>\n",
       "      <td>1</td>\n",
       "      <td>Central Park Tower</td>\n",
       "      <td>217 W 57th St, NY</td>\n",
       "      <td>1550</td>\n",
       "      <td>(217, West 57th Street, Midtown, Manhattan Com...</td>\n",
       "      <td>40.765957</td>\n",
       "      <td>-73.980844</td>\n",
       "      <td>749.522485</td>\n",
       "    </tr>\n",
       "    <tr>\n",
       "      <th>2</th>\n",
       "      <td>2</td>\n",
       "      <td>Willis Tower</td>\n",
       "      <td>233 S Wacker Dr, 60606</td>\n",
       "      <td>1451</td>\n",
       "      <td>(Willis Tower, 233, South Wacker Drive, Printe...</td>\n",
       "      <td>41.878872</td>\n",
       "      <td>-87.635908</td>\n",
       "      <td>588.044760</td>\n",
       "    </tr>\n",
       "    <tr>\n",
       "      <th>3</th>\n",
       "      <td>3</td>\n",
       "      <td>111 West 57th Street</td>\n",
       "      <td>111 West 57th St, Manhattan</td>\n",
       "      <td>1428</td>\n",
       "      <td>(111 West 57th Street, West 57th Street, Midto...</td>\n",
       "      <td>40.764760</td>\n",
       "      <td>-73.977581</td>\n",
       "      <td>749.609843</td>\n",
       "    </tr>\n",
       "    <tr>\n",
       "      <th>4</th>\n",
       "      <td>4</td>\n",
       "      <td>One Vanderbilt</td>\n",
       "      <td>40.7530°N 73.9785°W</td>\n",
       "      <td>1401</td>\n",
       "      <td>(One Vanderbilt, 1, Vanderbilt Avenue, Manhatt...</td>\n",
       "      <td>40.752971</td>\n",
       "      <td>-73.978541</td>\n",
       "      <td>749.081646</td>\n",
       "    </tr>\n",
       "  </tbody>\n",
       "</table>\n",
       "</div>"
      ],
      "text/plain": [
       "   Unnamed: 0                    name  \\\n",
       "0           0  One World Trade Center   \n",
       "1           1      Central Park Tower   \n",
       "2           2            Willis Tower   \n",
       "3           3    111 West 57th Street   \n",
       "4           4          One Vanderbilt   \n",
       "\n",
       "                                             address  height  \\\n",
       "0  285 Fulton Street, Manhattan, New York 10007, ...    1776   \n",
       "1                                  217 W 57th St, NY    1550   \n",
       "2                             233 S Wacker Dr, 60606    1451   \n",
       "3                        111 West 57th St, Manhattan    1428   \n",
       "4                                40.7530°N 73.9785°W    1401   \n",
       "\n",
       "                                        full_address   latitude  longitude  \\\n",
       "0  (285, Fulton Street, Financial District, Manha...  40.713005 -74.013190   \n",
       "1  (217, West 57th Street, Midtown, Manhattan Com...  40.765957 -73.980844   \n",
       "2  (Willis Tower, 233, South Wacker Drive, Printe...  41.878872 -87.635908   \n",
       "3  (111 West 57th Street, West 57th Street, Midto...  40.764760 -73.977581   \n",
       "4  (One Vanderbilt, 1, Vanderbilt Avenue, Manhatt...  40.752971 -73.978541   \n",
       "\n",
       "   distance_to_atl  \n",
       "0       745.973449  \n",
       "1       749.522485  \n",
       "2       588.044760  \n",
       "3       749.609843  \n",
       "4       749.081646  "
      ]
     },
     "execution_count": 71,
     "metadata": {},
     "output_type": "execute_result"
    }
   ],
   "source": [
    "atlanta = (33.7492,  -84.3881)\n",
    "df['distance_to_atl'] = df.apply(lambda x: distance.distance((x.latitude, x. longitude), atlanta).miles, axis=1)\n",
    "df"
   ]
  }
 ],
 "metadata": {
  "interpreter": {
   "hash": "7e1998ff7f8aa20ada591c520b972326324e5ea05489af9e422744c7c09f6dad"
  },
  "kernelspec": {
   "display_name": "Python 3.10.1 64-bit",
   "language": "python",
   "name": "python3"
  },
  "language_info": {
   "codemirror_mode": {
    "name": "ipython",
    "version": 3
   },
   "file_extension": ".py",
   "mimetype": "text/x-python",
   "name": "python",
   "nbconvert_exporter": "python",
   "pygments_lexer": "ipython3",
   "version": "3.9.7"
  },
  "orig_nbformat": 4
 },
 "nbformat": 4,
 "nbformat_minor": 2
}
